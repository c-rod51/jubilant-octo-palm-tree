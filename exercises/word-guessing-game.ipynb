{
 "cells": [
  {
   "cell_type": "markdown",
   "id": "5d845f6f",
   "metadata": {},
   "source": [
    "# Word Guessing Game\n",
    "\n",
    "## Rules\n",
    "A random word is chosen from a full dictionary list. A player starts with 7 guesses.\n",
    "On each turn, a player can guess a letter or guess the full word. If the player guesses a letter that is in the word, the computer will show the player the position of each instance of that letter.\n",
    "\n",
    "For example: Take the word \"Mississippi\" If the player chooses \"i\", the computer will print \"_ i _ _ i _ _ i _ _ i \" If the player then chooses, \"o\", the player will lose a 1 guess and now has 6 guesses.\n",
    "\n",
    "When the player has 0 guesses, the game is over and the player has lost. If the player guesses the word correctly, the game is over and the player has won. If the player guesses the word incorrectly and the total guesses left is greater then 2, they lose 1 guess. If they guess the word incorrectly and the total guesses they have left is 1, they lose the game."
   ]
  },
  {
   "cell_type": "markdown",
   "id": "9c066f0a",
   "metadata": {},
   "source": [
    "## Part 1\n",
    "Fully flowchart or pseudocode the game instructions. The input of the letter or word should be case insensitive and the pseudocode should include some logic to check user input to make sure it is either a letter or word."
   ]
  },
  {
   "cell_type": "markdown",
   "id": "7405969b",
   "metadata": {},
   "source": [
    "**Here are the steps to follow when creating the game:**\n",
    "\n",
    "1. Begin by establishing a list of words stored in a dictionary (call it `word_dictionary_list`)\n",
    "\n",
    "2. From the list, pick a random word while removing it from the set (note that `pop()` seems like a good function for this)\n",
    "\n",
    "3. Initiate/store the `player_guesses_remaining` to 7\n",
    "\n",
    "4. Check remaining guesses\n",
    "> * if 0, `Game Over`\n",
    "> * if > 0, `Try again`\n",
    "\n",
    "5. Allow a player to make a guess\n",
    "* Check if the guess is a character guess or a word guess (may want to use `len()`)\n",
    "> * if the guess is a word, check if the word matches\n",
    "> > * if it matches, return `Hooray! You won!`, else `Sorry, bad guess` \n",
    "> * if the guess is a character, check if the  character is in the word\n",
    "> > * if it matches, display character placement\n",
    "\n",
    "6. Subtract 1 from `player_remaining_guesses`"
   ]
  },
  {
   "cell_type": "markdown",
   "id": "39f701cc",
   "metadata": {},
   "source": [
    "## Part 2\n",
    "Pick a static word of your choice and code this into your solution. Utilizing the flowchart or pseudocode, demonstrate your understanding of the topics covered by utilizing functions, lists, dictionaries, sets, variables and string manipulation in your code."
   ]
  },
  {
   "cell_type": "code",
   "execution_count": 1,
   "id": "ed413668",
   "metadata": {},
   "outputs": [],
   "source": [
    "# Functions to call on\n",
    "\n",
    "def find_char_index(word, character):\n",
    "    indices = []\n",
    "    for i in range(len(word)):\n",
    "        if character == word[i]:\n",
    "            indices.append(i)\n",
    "    return indices"
   ]
  },
  {
   "cell_type": "code",
   "execution_count": 2,
   "id": "2fa13060",
   "metadata": {},
   "outputs": [],
   "source": [
    "## Function for game\n",
    "\n",
    "def play_WordGuessingGame(game_word):\n",
    "    word_2_guess = game_word\n",
    "    word_2_guess = word_2_guess.upper()\n",
    "\n",
    "    empty_word = '_'.rjust(len(word_2_guess), '_')\n",
    "    player_guesses_remaining = 7\n",
    "\n",
    "\n",
    "    while (player_guesses_remaining > 0):\n",
    "        if empty_word.find('_') == -1:\n",
    "            return('Hooray! You won!')\n",
    "            break\n",
    "        \n",
    "        player_guess = str(input('Enter your guess: '))\n",
    "        player_guess = player_guess.upper()\n",
    "\n",
    "\n",
    "        if len(player_guess) > 1:\n",
    "            #Check if the word matches\n",
    "            if player_guess == word_2_guess:\n",
    "                return('Hooray! You won!')\n",
    "                break\n",
    "            else:\n",
    "                print('Sorry, bad guess')\n",
    "\n",
    "        elif len(player_guess) == 1:\n",
    "            indices = find_char_index(word_2_guess, player_guess)\n",
    "            if len(indices) > 0:\n",
    "                empty_word = list(empty_word)\n",
    "                for index in indices:\n",
    "                    empty_word[index] = player_guess\n",
    "                empty_word = \"\".join(empty_word)\n",
    "                print(f'Yes! {player_guess} appears here: {empty_word}')\n",
    "            else:\n",
    "                print(f'No, {player_guess} does not appear in the word')\n",
    "\n",
    "        player_guesses_remaining -= 1\n",
    "        print(f'Only {player_guesses_remaining} guesses remaining')\n",
    "\n",
    "    else:\n",
    "        return('No attempts remaining. You lose')"
   ]
  },
  {
   "cell_type": "code",
   "execution_count": 3,
   "id": "e216a60e",
   "metadata": {},
   "outputs": [
    {
     "name": "stdout",
     "output_type": "stream",
     "text": [
      "Enter your guess: o\n",
      "Yes! O appears here: O_O___O_O___\n",
      "Only 6 guesses remaining\n",
      "Enter your guess: m\n",
      "Yes! M appears here: O_OM__O_O___\n",
      "Only 5 guesses remaining\n",
      "Enter your guess: onomatopoeia\n"
     ]
    },
    {
     "data": {
      "text/plain": [
       "'Hooray! You won!'"
      ]
     },
     "execution_count": 3,
     "metadata": {},
     "output_type": "execute_result"
    }
   ],
   "source": [
    "# Play the game\n",
    "play_WordGuessingGame('onomatopoeia')"
   ]
  },
  {
   "cell_type": "markdown",
   "id": "34671a42",
   "metadata": {},
   "source": [
    "## Part 3\n",
    "Replace the static word in Part 2 with a random word read in from a English word list file such as this [English word list](https://github.com/dwyl/english-words). You may use any file reader of your choice to read in and choose the word randomly. The game should run one time and then exit."
   ]
  },
  {
   "cell_type": "code",
   "execution_count": 5,
   "id": "456044d1",
   "metadata": {},
   "outputs": [],
   "source": [
    "# Let's begin by creating a random word generator function that draws randomly from the word list\n",
    "# To open txt url, we'll use urlib.request\n",
    "from urllib.request import urlopen\n",
    "import random\n",
    "# insert seed for coding/troubleshooting\n",
    "random.seed(9)\n",
    "\n",
    "def random_word_generator():\n",
    "    #Open and store word_list as variable\n",
    "    word_list = urlopen(\"https://raw.githubusercontent.com/dwyl/english-words/master/words_alpha.txt\").read().decode('utf-8')\n",
    "    word_list = word_list.splitlines()\n",
    "    \n",
    "    #Pick random word from list\n",
    "    random_word = word_list[random.randint(0, len(word_list))]\n",
    "    return random_word"
   ]
  },
  {
   "cell_type": "markdown",
   "id": "6e75cac2",
   "metadata": {},
   "source": [
    "**Now we can edit our game function to call on this random word generator for `word_2_guess`**"
   ]
  },
  {
   "cell_type": "code",
   "execution_count": 6,
   "id": "7217418b",
   "metadata": {},
   "outputs": [],
   "source": [
    "## Generate random word and store as variable\n",
    "random_word = random_word_generator()"
   ]
  },
  {
   "cell_type": "code",
   "execution_count": 7,
   "id": "ae0c8aa8",
   "metadata": {},
   "outputs": [
    {
     "name": "stdout",
     "output_type": "stream",
     "text": [
      "Enter your guess: p\n",
      "Yes! P appears here: P_____\n",
      "Only 6 guesses remaining\n",
      "Enter your guess: l\n",
      "Yes! L appears here: P_LL__\n",
      "Only 5 guesses remaining\n",
      "Enter your guess: o\n",
      "Yes! O appears here: POLLO_\n",
      "Only 4 guesses remaining\n",
      "Enter your guess: i\n",
      "Yes! I appears here: POLLOI\n",
      "Only 3 guesses remaining\n"
     ]
    },
    {
     "data": {
      "text/plain": [
       "'Hooray! You won!'"
      ]
     },
     "execution_count": 7,
     "metadata": {},
     "output_type": "execute_result"
    }
   ],
   "source": [
    "## Play game with a randomly generated word\n",
    "play_WordGuessingGame(random_word)"
   ]
  },
  {
   "cell_type": "markdown",
   "id": "71a3ae6d",
   "metadata": {},
   "source": [
    "## Part 4\n",
    "After you have coded the initial game, change the game to ask the user if the player would like to play again. Keep a running total of wins and losses and ensure no word from Part 3 is ever picked twice for one session of the game."
   ]
  },
  {
   "cell_type": "code",
   "execution_count": 8,
   "id": "2da07849",
   "metadata": {},
   "outputs": [],
   "source": [
    "## Function for the game, which will call on the prior single-game function\n",
    "\n",
    "def WordGuessingGame():\n",
    "    #Initialize track of wins/losses\n",
    "    wins = 0\n",
    "    losses = 0\n",
    "    \n",
    "    #set game play mode on\n",
    "    user_response = 'y'\n",
    "    \n",
    "    #Keep tracks of words already used for game\n",
    "    words_used = []\n",
    "    \n",
    "    while user_response == 'y':\n",
    "        \n",
    "        #Pick random word from list until one is picked that is not in the list\n",
    "        game_word = random_word_generator()\n",
    "    \n",
    "        while game_word in words_used:\n",
    "            game_word = random_word_generator()\n",
    "        #Append the word_2_guess to the words_used list\n",
    "        else:\n",
    "            words_used.append(game_word)\n",
    "    \n",
    "        #Call the game play function\n",
    "        result = play_WordGuessingGame(game_word)\n",
    "        if result == 'Hooray! You won!':\n",
    "            wins += 1\n",
    "        elif result == 'No attempts remaining. You lose':\n",
    "            losses += 1\n",
    "        print(result)\n",
    "\n",
    "        #Tell player current wins and losses; check if they want to play again\n",
    "        print(f'You won {wins} times and lost {losses} times')\n",
    "        user_response = str(input('Would you like to play again (y/n)?: '))\n",
    "\n",
    "    else:\n",
    "        print('Thanks for playing!')\n",
    "        "
   ]
  },
  {
   "cell_type": "code",
   "execution_count": 9,
   "id": "a1ff76a6",
   "metadata": {},
   "outputs": [
    {
     "name": "stdout",
     "output_type": "stream",
     "text": [
      "Enter your guess: a\n",
      "Yes! A appears here: ___________A____\n",
      "Only 6 guesses remaining\n",
      "Enter your guess: e\n",
      "Yes! E appears here: __E____E___A____\n",
      "Only 5 guesses remaining\n",
      "Enter your guess: i\n",
      "Yes! I appears here: __E____E___A_I__\n",
      "Only 4 guesses remaining\n",
      "Enter your guess: o\n",
      "Yes! O appears here: __E__O_E___A_IO_\n",
      "Only 3 guesses remaining\n",
      "Enter your guess: c\n",
      "No, C does not appear in the word\n",
      "Only 2 guesses remaining\n",
      "Enter your guess: d\n",
      "No, D does not appear in the word\n",
      "Only 1 guesses remaining\n",
      "Enter your guess: f\n",
      "No, F does not appear in the word\n",
      "Only 0 guesses remaining\n",
      "No attempts remaining. You lose\n",
      "You won 0 times and lost 1 times\n",
      "Would you like to play again (y/n)?: n\n",
      "Thanks for playing!\n"
     ]
    }
   ],
   "source": [
    "WordGuessingGame()"
   ]
  },
  {
   "cell_type": "markdown",
   "id": "319caa1a",
   "metadata": {},
   "source": [
    "## Part 5\n",
    "Devise a new way to use ASCII, f strings, and what we covered from the lessons to display how the player is doing on each turn.\n",
    "\n",
    "Hint: You may read in or create as many additional files as you need to solve this problem."
   ]
  },
  {
   "cell_type": "code",
   "execution_count": null,
   "id": "a4671491",
   "metadata": {},
   "outputs": [],
   "source": []
  }
 ],
 "metadata": {
  "kernelspec": {
   "display_name": "Python 3 (ipykernel)",
   "language": "python",
   "name": "python3"
  },
  "language_info": {
   "codemirror_mode": {
    "name": "ipython",
    "version": 3
   },
   "file_extension": ".py",
   "mimetype": "text/x-python",
   "name": "python",
   "nbconvert_exporter": "python",
   "pygments_lexer": "ipython3",
   "version": "3.9.12"
  }
 },
 "nbformat": 4,
 "nbformat_minor": 5
}
