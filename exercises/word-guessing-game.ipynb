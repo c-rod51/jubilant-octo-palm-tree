{
 "cells": [
  {
   "cell_type": "markdown",
   "id": "5d845f6f",
   "metadata": {},
   "source": [
    "# Word Guessing Game\n",
    "\n",
    "## Rules\n",
    "A random word is chosen from a full dictionary list. A player starts with 7 guesses.\n",
    "On each turn, a player can guess a letter or guess the full word. If the player guesses a letter that is in the word, the computer will show the player the position of each instance of that letter.\n",
    "\n",
    "For example: Take the word \"Mississippi\" If the player chooses \"i\", the computer will print \"_ i _ _ i _ _ i _ _ i \" If the player then chooses, \"o\", the player will lose a 1 guess and now has 6 guesses.\n",
    "\n",
    "When the player has 0 guesses, the game is over and the player has lost. If the player guesses the word correctly, the game is over and the player has won. If the player guesses the word incorrectly and the total guesses left is greater then 2, they lose 1 guess. If they guess the word incorrectly and the total guesses they have left is 1, they lose the game."
   ]
  },
  {
   "cell_type": "markdown",
   "id": "9c066f0a",
   "metadata": {},
   "source": [
    "## Part 1\n",
    "Fully flowchart or pseudocode the game instructions. The input of the letter or word should be case insensitive and the pseudocode should include some logic to check user input to make sure it is either a letter or word."
   ]
  },
  {
   "cell_type": "markdown",
   "id": "7405969b",
   "metadata": {},
   "source": [
    "**Here are the steps to follow when creating the game:**\n",
    "\n",
    "1. Begin by establishing a list of words stored in a dictionary (call it `word_dictionary_list`)\n",
    "\n",
    "2. From the list, pick a random word while removing it from the set (note that `pop()` seems like a good function for this)\n",
    "\n",
    "3. Initiate/store the `player_guesses_remaining` to 7\n",
    "\n",
    "4. Check remaining guesses\n",
    "> * if 0, `Game Over`\n",
    "> * if > 0, `Try again`\n",
    "\n",
    "5. Allow a player to make a guess\n",
    "* Check if the guess is a character guess or a word guess (may want to use `len()`)\n",
    "> * if the guess is a word, check if the word matches\n",
    "> > * if it matches, return `Hooray! You won!`, else `Sorry, bad guess` \n",
    "> * if the guess is a character, check if the  character is in the word\n",
    "> > * if it matches, display character placement\n",
    "\n",
    "6. Subtract 1 from `player_remaining_guesses`"
   ]
  },
  {
   "cell_type": "code",
   "execution_count": null,
   "id": "2b8a405c",
   "metadata": {},
   "outputs": [],
   "source": []
  }
 ],
 "metadata": {
  "kernelspec": {
   "display_name": "Python 3 (ipykernel)",
   "language": "python",
   "name": "python3"
  },
  "language_info": {
   "codemirror_mode": {
    "name": "ipython",
    "version": 3
   },
   "file_extension": ".py",
   "mimetype": "text/x-python",
   "name": "python",
   "nbconvert_exporter": "python",
   "pygments_lexer": "ipython3",
   "version": "3.9.12"
  }
 },
 "nbformat": 4,
 "nbformat_minor": 5
}
